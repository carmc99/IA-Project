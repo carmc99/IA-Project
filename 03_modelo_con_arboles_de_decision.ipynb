{
  "nbformat": 4,
  "nbformat_minor": 0,
  "metadata": {
    "colab": {
      "provenance": [],
      "authorship_tag": "ABX9TyM4xNoi9mBE9ZREafHVqEW1",
      "include_colab_link": true
    },
    "kernelspec": {
      "name": "python3",
      "display_name": "Python 3"
    },
    "language_info": {
      "name": "python"
    }
  },
  "cells": [
    {
      "cell_type": "markdown",
      "metadata": {
        "id": "view-in-github",
        "colab_type": "text"
      },
      "source": [
        "<a href=\"https://colab.research.google.com/github/carmc99/IA-Project/blob/main/03_modelo_con_arboles_de_decision.ipynb\" target=\"_parent\"><img src=\"https://colab.research.google.com/assets/colab-badge.svg\" alt=\"Open In Colab\"/></a>"
      ]
    },
    {
      "cell_type": "code",
      "execution_count": null,
      "metadata": {
        "id": "CxBsyXFgCk7F"
      },
      "outputs": [],
      "source": [
        "# Sube el archivo de auth sino existe\n",
        "from google.colab import files\n",
        "files.upload()\n",
        "# Instalar api de kaggle\n",
        "!pip install kaggle\n",
        "# Mueve el archivo de auth\n",
        "!mkdir -p ~/.kaggle\n",
        "!cp kaggle.json ~/.kaggle/\n",
        "!chmod 600 /root/.kaggle/kaggle.json # Asigna permisos solo al propietario del archivo\n",
        "!kaggle datasets download -d pralabhpoudel/world-energy-consumption # Descarga el dataset\n",
        "!unzip world-energy-consumption.zip # Descomprime el dataset"
      ]
    },
    {
      "cell_type": "code",
      "source": [
        "import pandas as pd\n",
        "from sklearn.preprocessing import MinMaxScaler\n",
        "from sklearn.model_selection import train_test_split\n",
        "from sklearn.tree import DecisionTreeClassifier\n",
        "from sklearn.svm import SVC\n",
        "from sklearn.metrics import accuracy_score, precision_score, recall_score, f1_score, roc_auc_score\n",
        "# Lee el archivo CSV y almacena los datos en un DataFrame\n",
        "df = pd.read_csv('World Energy Consumption.csv')\n",
        "     "
      ],
      "metadata": {
        "id": "tlYKTYdbHMkK"
      },
      "execution_count": null,
      "outputs": []
    },
    {
      "cell_type": "markdown",
      "source": [
        "Modelo arboles de decision"
      ],
      "metadata": {
        "id": "he6JJBFtJkgQ"
      }
    },
    {
      "cell_type": "markdown",
      "source": [],
      "metadata": {
        "id": "kXr1JbWnHSt6"
      }
    }
  ]
}