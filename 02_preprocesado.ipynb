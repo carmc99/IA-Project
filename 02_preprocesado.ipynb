{
  "nbformat": 4,
  "nbformat_minor": 0,
  "metadata": {
    "colab": {
      "provenance": []
    },
    "kernelspec": {
      "name": "python3",
      "display_name": "Python 3"
    },
    "language_info": {
      "name": "python"
    }
  },
  "cells": [
    {
      "cell_type": "code",
      "execution_count": null,
      "metadata": {
        "id": "8JHFHRyqX-jH"
      },
      "outputs": [],
      "source": [
        "# Sube el archivo de auth sino existe\n",
        "from google.colab import files\n",
        "files.upload()\n",
        "# Instalar api de kaggle\n",
        "!pip install kaggle\n",
        "# Mueve el archivo de auth\n",
        "!mkdir -p ~/.kaggle\n",
        "!cp kaggle.json ~/.kaggle/\n",
        "!chmod 600 /root/.kaggle/kaggle.json # Asigna permisos solo al propietario del archivo\n",
        "!kaggle datasets download -d pralabhpoudel/world-energy-consumption # Descarga el dataset\n",
        "!unzip world-energy-consumption.zip # Descomprime el dataset"
      ]
    },
    {
      "cell_type": "code",
      "source": [
        "import pandas as pd\n",
        "from sklearn.preprocessing import MinMaxScaler\n",
        "from sklearn.model_selection import train_test_split\n",
        "from sklearn.tree import DecisionTreeClassifier\n",
        "from sklearn.svm import SVC\n",
        "from sklearn.metrics import accuracy_score, precision_score, recall_score, f1_score, roc_auc_score\n",
        "# Lee el archivo CSV y almacena los datos en un DataFrame\n",
        "df = pd.read_csv('World Energy Consumption.csv')"
      ],
      "metadata": {
        "id": "vJ-VsTaQhwxZ"
      },
      "execution_count": 18,
      "outputs": []
    },
    {
      "cell_type": "markdown",
      "source": [
        "### Preprocesado y limpieza de datos"
      ],
      "metadata": {
        "id": "GKsCwJv4gwZA"
      }
    },
    {
      "cell_type": "code",
      "source": [
        "df.fillna(0, inplace=True) # Reemplaza los valores NaN por 0\n",
        "\n",
        "# Lista de columnas a mantener\n",
        "columns_to_keep = ['country', 'year', 'biofuel_electricity', 'biofuel_share_elec', 'biofuel_cons_change_pct', 'biofuel_share_energy', 'biofuel_cons_change_twh', 'biofuel_consumption', 'biofuel_elec_per_capita', 'biofuel_cons_per_capita', 'hydro_electricity', 'other_renewable_electricity', 'other_renewable_exc_biofuel_electricity', 'renewables_electricity', 'solar_electricity', 'wind_electricity', 'hydro_share_elec', 'hydro_cons_change_pct', 'hydro_share_energy', 'hydro_cons_change_twh', 'hydro_consumption', 'hydro_elec_per_capita', 'hydro_energy_per_capita', 'population', 'per_capita_electricity', 'renewables_elec_per_capita', 'renewables_share_elec', 'renewables_cons_change_pct', 'renewables_share_energy', 'renewables_cons_change_twh', 'renewables_consumption', 'renewables_energy_per_capita', 'solar_share_elec', 'solar_cons_change_pct', 'solar_share_energy', 'solar_cons_change_twh', 'solar_consumption', 'solar_elec_per_capita', 'solar_energy_per_capita', 'gdp', 'wind_share_elec', 'wind_cons_change_pct', 'wind_share_energy', 'wind_cons_change_twh', 'wind_consumption', 'wind_elec_per_capita', 'wind_energy_per_capita']\n",
        "\n",
        "# Crear un nuevo DataFrame que contenga solo las columnas deseadas\n",
        "df_new = df[columns_to_keep]\n",
        "\n",
        "# Guardar el nuevo DataFrame en un archivo CSV\n",
        "df_new.to_csv('World_Energy_Consumption_cleaned.csv', index=False)\n",
        "\n",
        "df = df_new"
      ],
      "metadata": {
        "id": "OoFmS_7TlMUt"
      },
      "execution_count": 19,
      "outputs": []
    },
    {
      "cell_type": "code",
      "source": [
        "import matplotlib.pyplot as plt\n",
        "# establecer umbral de energía renovable\n",
        "umbral = 40\n",
        "\n",
        "# crear variable de destino\n",
        "df['alta_renovable'] = df.apply(lambda row: 1 if row['renewables_share_energy'] > umbral else 0, axis=1)\n",
        "\n",
        "# Filtrar los países con un alto porcentaje de energía renovable\n",
        "alta_renovable = df[df['alta_renovable'] == 1]"
      ],
      "metadata": {
        "id": "mKeb6IB9oym7"
      },
      "execution_count": 20,
      "outputs": []
    },
    {
      "cell_type": "code",
      "source": [
        "\n",
        "# Seleccionar las columnas de características y la variable objetivo\n",
        "X = df.loc[:, ['biofuel_share_energy', 'hydro_share_energy', 'solar_share_energy', 'wind_share_energy', 'renewables_share_energy']]\n",
        "y = df['alta_renovable']\n",
        "\n",
        "# Normalizar los datos con MinMaxScaler\n",
        "scaler = MinMaxScaler()\n",
        "X_scaled = scaler.fit_transform(X)\n",
        "\n",
        "# Dividir el conjunto de datos en conjuntos de entrenamiento y prueba\n",
        "X_train, X_test, y_train, y_test = train_test_split(X_scaled, y, test_size=0.2, random_state=42)\n"
      ],
      "metadata": {
        "id": "g1N9uasLxydK"
      },
      "execution_count": 21,
      "outputs": []
    },
    {
      "cell_type": "code",
      "source": [
        "\n",
        "X = df[[\"biofuel_share_energy\", \"hydro_share_energy\", \"solar_share_energy\", \"wind_share_energy\", \"renewables_share_energy\", \"per_capita_electricity\", \"population\"]]\n",
        "y = df[\"alta_renovable\"]\n",
        "\n",
        "# Entrenar un árbol de decisión\n",
        "dtc = DecisionTreeClassifier(random_state=42)\n",
        "dtc.fit(X_train, y_train)\n",
        "\n",
        "# Realizar predicciones en el conjunto de prueba utilizando el árbol de decisión\n",
        "y_pred = dtc.predict(X_test)\n",
        "\n",
        "# Evaluar el desempeño del árbol de decisión utilizando métricas de clasificación\n",
        "print(\"Evaluar el desempeño del árbol\")\n",
        "print(\"Accuracy:\", accuracy_score(y_test, y_pred))\n",
        "print(\"Precision:\", precision_score(y_test, y_pred))\n",
        "print(\"Recall:\", recall_score(y_test, y_pred))\n",
        "print(\"F1 Score:\", f1_score(y_test, y_pred))\n",
        "print(\"ROC AUC Score:\", roc_auc_score(y_test, y_pred))\n",
        "\n",
        "# Entrenar una máquina de vectores de soporte\n",
        "svc = SVC(random_state=42)\n",
        "svc.fit(X_train, y_train)\n",
        "\n",
        "# Realizar predicciones en el conjunto de prueba utilizando la máquina de vectores de soporte\n",
        "y_pred = svc.predict(X_test)\n",
        "\n",
        "# Evaluar el desempeño de la máquina de vectores de soporte utilizando métricas de clasificación\n",
        "print(\"Evaluar el desempeño de la máquina de vectores\")\n",
        "print(\"Accuracy:\", accuracy_score(y_test, y_pred))\n",
        "print(\"Precision:\", precision_score(y_test, y_pred))\n",
        "print(\"Recall:\", recall_score(y_test, y_pred))\n",
        "print(\"F1 Score:\", f1_score(y_test, y_pred))\n",
        "print(\"ROC AUC Score:\", roc_auc_score(y_test, y_pred))"
      ],
      "metadata": {
        "colab": {
          "base_uri": "https://localhost:8080/"
        },
        "id": "M0M_9fbwMep9",
        "outputId": "8ce60c5c-5513-4e12-b722-2c6fff80247b"
      },
      "execution_count": 22,
      "outputs": [
        {
          "output_type": "stream",
          "name": "stdout",
          "text": [
            "Evaluar el desempeño del árbol\n",
            "Accuracy: 1.0\n",
            "Precision: 1.0\n",
            "Recall: 1.0\n",
            "F1 Score: 1.0\n",
            "ROC AUC Score: 1.0\n",
            "Evaluar el desempeño de la máquina de vectores\n",
            "Accuracy: 0.9979925437338687\n",
            "Precision: 0.9032258064516129\n",
            "Recall: 0.875\n",
            "F1 Score: 0.8888888888888888\n",
            "ROC AUC Score: 0.9370658465991316\n"
          ]
        }
      ]
    }
  ]
}